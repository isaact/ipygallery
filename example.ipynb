{
	"cells": [
		{
			"cell_type": "code",
			"execution_count": 1,
			"metadata": {},
			"outputs": [
				{
					"name": "stdout",
					"output_type": "stream",
					"text": [
						"env: ANYWIDGET_HMR=1\n"
					]
				}
			],
			"source": [
				"%load_ext autoreload\n",
				"%autoreload 2\n",
				"%env ANYWIDGET_HMR=1"
			]
		},
		{
			"cell_type": "code",
			"execution_count": 4,
			"metadata": {},
			"outputs": [],
			"source": [
				"def generate_images(count=10):\n",
				"    images = []\n",
				"    for i in range(count):\n",
				"        url = f\"https://picsum.photos/seed/{i + 1}/300/200\"\n",
				"        images.append({\n",
				"            \"url\": url,\n",
				"            \"title\": f\"Image {i+1}\"\n",
				"        })\n",
				"    return images"
			]
		},
		{
			"cell_type": "code",
			"execution_count": 10,
			"metadata": {},
			"outputs": [
				{
					"data": {
						"application/vnd.jupyter.widget-view+json": {
							"model_id": "341aebcb34bc415cabc1bf4efeb27828",
							"version_major": 2,
							"version_minor": 1
						},
						"text/plain": [
							"ImagePicker(height='300px', images=[{'url': 'https://picsum.photos/seed/1/300/200', 'title': 'Image 1'}, {'url…"
						]
					},
					"metadata": {},
					"output_type": "display_data"
				}
			],
			"source": [
				"from ipygallery import ImagePicker\n",
				"images = generate_images(150)\n",
				"w = ImagePicker(images=images, height=\"300px\", width=\"100%\")\n",
				"display(w)\n"
			]
		}
	],
	"metadata": {
		"kernelspec": {
			"display_name": ".venv",
			"language": "python",
			"name": "python3"
		},
		"language_info": {
			"codemirror_mode": {
				"name": "ipython",
				"version": 3
			},
			"file_extension": ".py",
			"mimetype": "text/x-python",
			"name": "python",
			"nbconvert_exporter": "python",
			"pygments_lexer": "ipython3",
			"version": "3.11.4"
		}
	},
	"nbformat": 4,
	"nbformat_minor": 2
}
