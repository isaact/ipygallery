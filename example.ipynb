{
	"cells": [
		{
			"cell_type": "code",
			"execution_count": 1,
			"metadata": {},
			"outputs": [
				{
					"name": "stdout",
					"output_type": "stream",
					"text": [
						"env: ANYWIDGET_HMR=1\n"
					]
				}
			],
			"source": [
				"%load_ext autoreload\n",
				"%autoreload 2\n",
				"%env ANYWIDGET_HMR=1"
			]
		},
		{
			"cell_type": "code",
			"execution_count": 2,
			"metadata": {},
			"outputs": [],
			"source": [
				"def generate_images(count=10):\n",
				"    images = []\n",
				"    for i in range(count):\n",
				"        url = f\"https://picsum.photos/seed/{i + 1}/1024\"\n",
				"        images.append({\n",
				"            \"url\": url,\n",
				"            \"title\": f\"Image {i+1}\"\n",
				"        })\n",
				"    return images"
			]
		},
		{
			"cell_type": "code",
			"execution_count": 3,
			"metadata": {},
			"outputs": [
				{
					"name": "stderr",
					"output_type": "stream",
					"text": [
						"/Users/din/Acorn Labs/ipygallery/.venv/lib/python3.11/site-packages/traitlets/traitlets.py:872: UserWarning: The following attributes are set in using `tag`, but seem to be constructor keywords arguments: {'default_value'} \n",
						"  warn(\n",
						"/Users/din/Acorn Labs/ipygallery/.venv/lib/python3.11/site-packages/anywidget/_util.py:283: UserWarning: anywidget: Live-reloading feature is disabled. To enable, please install the 'watchfiles' package.\n",
						"  start_thread=_should_start_thread(path),\n"
					]
				},
				{
					"data": {
						"application/vnd.jupyter.widget-view+json": {
							"model_id": "bf45cfd98924458b94972fcb0ed3696a",
							"version_major": 2,
							"version_minor": 1
						},
						"text/plain": [
							"ImagePicker(height='300px', images=[{'url': 'https://picsum.photos/seed/1/1024', 'title': 'Image 1'}, {'url': …"
						]
					},
					"metadata": {},
					"output_type": "display_data"
				}
			],
			"source": [
				"from ipygallery import ImagePicker\n",
				"images = generate_images(150)\n",
				"w = ImagePicker(images=images, height=\"300px\", width=\"100%\")\n",
				"display(w)\n"
			]
		}
	],
	"metadata": {
		"kernelspec": {
			"display_name": ".venv",
			"language": "python",
			"name": "python3"
		},
		"language_info": {
			"codemirror_mode": {
				"name": "ipython",
				"version": 3
			},
			"file_extension": ".py",
			"mimetype": "text/x-python",
			"name": "python",
			"nbconvert_exporter": "python",
			"pygments_lexer": "ipython3",
			"version": "3.11.4"
		}
	},
	"nbformat": 4,
	"nbformat_minor": 2
}
