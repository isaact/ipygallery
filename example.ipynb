{
	"cells": [
		{
			"cell_type": "code",
			"execution_count": 10,
			"metadata": {},
			"outputs": [
				{
					"name": "stdout",
					"output_type": "stream",
					"text": [
						"The autoreload extension is already loaded. To reload it, use:\n",
						"  %reload_ext autoreload\n",
						"env: ANYWIDGET_HMR=1\n"
					]
				}
			],
			"source": [
				"%load_ext autoreload\n",
				"%autoreload 2\n",
				"%env ANYWIDGET_HMR=1"
			]
		},
		{
			"cell_type": "code",
			"execution_count": 11,
			"metadata": {},
			"outputs": [
				{
					"data": {
						"application/vnd.jupyter.widget-view+json": {
							"model_id": "bf3257708ed24e3da784f07c621c8a21",
							"version_major": 2,
							"version_minor": 1
						},
						"text/plain": [
							"Widget()"
						]
					},
					"execution_count": 11,
					"metadata": {},
					"output_type": "execute_result"
				}
			],
			"source": [
				"from ipygallery import Widget\n",
				"Widget()"
			]
		},
		{
			"cell_type": "code",
			"execution_count": 21,
			"metadata": {},
			"outputs": [
				{
					"name": "stdout",
					"output_type": "stream",
					"text": [
						"Counterexample: [5, 1, 3, 2, 4]\n",
						"Solution: 5\n"
					]
				}
			],
			"source": [
				"from typing import List\n",
				"\n",
				"# you can write to stdout for debugging purposes, e.g.\n",
				"# print(\"this is a debug message\")\n",
				"\n",
				"\n",
				"# Return your counterexample here.\n",
				"def generate_counterexample() -> List[int]:\n",
				"    prices = [5, 1, 3, 2, 4]\n",
				"    return prices\n",
				"\n",
				"\n",
				"# Fix the function below, so it does not contain a bug.\n",
				"def solution(prices: List[int]) -> int:\n",
				"    N = len(prices)\n",
				"    holding = True  # start holding one asset\n",
				"    total_profit = 0\n",
				"\n",
				"    for i in range(1, N):\n",
				"        # Detect local peak: price[i] > price[i-1] and (i == N-1 or price[i] >= price[i+1])\n",
				"        if holding and prices[i] > prices[i-1] and (i == N - 1 or prices[i] >= prices[i + 1]):\n",
				"            total_profit += prices[i]\n",
				"            holding = False\n",
				"        # Detect local valley: price[i] < price[i-1] and (i == N-1 or price[i] <= prices[i+1])\n",
				"        elif not holding and prices[i] < prices[i-1] and (i == N - 1 or prices[i] <= prices[i + 1]):\n",
				"            total_profit -= prices[i]\n",
				"            holding = True\n",
				"\n",
				"    # If still holding asset at end, sell at last price\n",
				"    if holding:\n",
				"        total_profit += prices[-1]\n",
				"\n",
				"    return total_profit\n",
				"\n",
				"print(\"Counterexample:\", generate_counterexample())\n",
				"print(\"Solution:\", solution(generate_counterexample()))\n"
			]
		},
		{
			"cell_type": "code",
			"execution_count": null,
			"metadata": {},
			"outputs": [],
			"source": [
				"import json\n",
				"\n",
				"from django.db import models\n",
				"from django.http import HttpRequest\n",
				"from django.http import HttpResponse\n",
				"from django.http import JsonResponse\n",
				"\n",
				"\n",
				"class Product(models.Model):\n",
				"    name = models.CharField(max_length=15, primary_key=True)\n",
				"    price = models.IntegerField()\n",
				"    quantity = models.IntegerField()\n",
				"\n",
				"\n",
				"def shopping(request: HttpRequest) -> HttpResponse:\n",
				"    # Only allow GET\n",
				"    if request.method != \"GET\":\n",
				"        return JsonResponse({\"error\": \"Method not allowed\"}, status=405)\n",
				"\n",
				"    # Validate budget parameter\n",
				"    try:\n",
				"        budget = int(request.GET.get(\"budget\", \"\"))\n",
				"        if budget < 0:\n",
				"            raise ValueError\n",
				"    except ValueError:\n",
				"        return JsonResponse({\"error\": \"Invalid or missing budget\"}, status=400)\n",
				"\n",
				"    # Fetch all products sorted by price ascending (greedy approach)\n",
				"    products = Product.objects.all().order_by(\"price\")\n",
				"\n",
				"    remaining = budget\n",
				"    result = []\n",
				"\n",
				"    for product in products:\n",
				"        max_affordable_qty = remaining // product.price\n",
				"        qty_to_buy = min(product.quantity, max_affordable_qty)\n",
				"        if qty_to_buy > 0:\n",
				"            result.append({\n",
				"                \"name\": product.name,\n",
				"                \"quantity\": qty_to_buy\n",
				"            })\n",
				"            remaining -= qty_to_buy * product.price\n",
				"        if remaining <= 0:\n",
				"            break\n",
				"\n",
				"    return JsonResponse(result)\n"
			]
		}
	],
	"metadata": {
		"kernelspec": {
			"display_name": ".venv",
			"language": "python",
			"name": "python3"
		},
		"language_info": {
			"codemirror_mode": {
				"name": "ipython",
				"version": 3
			},
			"file_extension": ".py",
			"mimetype": "text/x-python",
			"name": "python",
			"nbconvert_exporter": "python",
			"pygments_lexer": "ipython3",
			"version": "3.11.4"
		}
	},
	"nbformat": 4,
	"nbformat_minor": 2
}
